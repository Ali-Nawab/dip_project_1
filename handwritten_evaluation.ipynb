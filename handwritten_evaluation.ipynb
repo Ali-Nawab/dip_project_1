{
  "nbformat": 4,
  "nbformat_minor": 0,
  "metadata": {
    "colab": {
      "provenance": [],
      "mount_file_id": "1YqWs9vvt2I3WgMTZ4jL-sdH938yh8nZu",
      "authorship_tag": "ABX9TyORMfoT0T2Hw3/UFS3aVBSR",
      "include_colab_link": true
    },
    "kernelspec": {
      "name": "python3",
      "display_name": "Python 3"
    },
    "language_info": {
      "name": "python"
    }
  },
  "cells": [
    {
      "cell_type": "markdown",
      "metadata": {
        "id": "view-in-github",
        "colab_type": "text"
      },
      "source": [
        "<a href=\"https://colab.research.google.com/github/Ali-Nawab/dip_project_1/blob/main/handwritten_evaluation.ipynb\" target=\"_parent\"><img src=\"https://colab.research.google.com/assets/colab-badge.svg\" alt=\"Open In Colab\"/></a>"
      ]
    },
    {
      "cell_type": "code",
      "execution_count": null,
      "metadata": {
        "id": "GizL_Qy9HRrC"
      },
      "outputs": [],
      "source": [
        "from tensorflow.keras.models import load_model\n",
        "import cv2\n",
        "import numpy as np\n",
        "import matplotlib.pyplot as plt\n",
        "import pandas as pd"
      ]
    },
    {
      "cell_type": "code",
      "source": [
        "class model:\n",
        "  def __init__(self):\n",
        "    self.model_check = load_model('/content/drive/MyDrive/your_Model.h5')\n",
        "  \n",
        "  def prediction(self, image_path):\n",
        "    # Read the image file using OpenCV\n",
        "    image = cv2.imread(image_path)\n",
        "\n",
        "    # Convert to grayscale.\n",
        "    gray_img = cv2.cvtColor(image, cv2.COLOR_BGR2GRAY)\n",
        "\n",
        "    # Get the shape of the image\n",
        "    height, width, channels = image.shape\n",
        "\n",
        "    final_chunks = []\n",
        "    num = \"\"\n",
        "    \n",
        "    if width <= 100:\n",
        "      image = cv2.resize(gray_img, (28, 28))\n",
        "      image = image.reshape(1, 28, 28, 1).astype('float32') / 255\n",
        "      final_chunks.append(image)\n",
        "\n",
        "    else:\n",
        "      # Split the image into chunks of 100 columns each\n",
        "      chunk_size = 100\n",
        "      num_chunks = image.shape[1] // chunk_size\n",
        "      chunks = []\n",
        "      resized_chunks = []\n",
        "      num = \"\"\n",
        "\n",
        "      for i in range(num_chunks):\n",
        "          start = i * chunk_size\n",
        "          end = start + chunk_size\n",
        "          chunk = gray_img[:, start:end]\n",
        "          chunks.append(chunk)\n",
        "\n",
        "      # Resize and display each chunk\n",
        "          \n",
        "      for chunk in chunks:\n",
        "          resized_chunk = cv2.resize(chunk, (28, 28), interpolation=cv2.INTER_CUBIC)\n",
        "          resized_chunks.append(resized_chunk)\n",
        "          #plt.imshow(resized_chunk, cmap='gray')\n",
        "          #plt.show()\n",
        "\n",
        "      # final checkup.\n",
        "          \n",
        "      for chunk in resized_chunks:\n",
        "          resized_chunks = chunk[None, :, :, None].astype('float32') / 255\n",
        "          final_chunks.append(resized_chunks)\n",
        "\n",
        "\n",
        "    \n",
        "    for i in final_chunks:\n",
        "        # Use the model to make a prediction\n",
        "        prediction = self.model_check.predict(i)\n",
        "\n",
        "        # Get the predicted class label (the index of the maximum value in the prediction array)\n",
        "        class_label = np.argmax(prediction)\n",
        "\n",
        "        # Print the predicted class label\n",
        "        print('Predicted class label:', class_label)\n",
        "\n",
        "        num += str(class_label)\n",
        "\n",
        "      \n",
        "\n",
        "    print(num)\n",
        "\n"
      ],
      "metadata": {
        "id": "pmIbQJ3FHocp"
      },
      "execution_count": null,
      "outputs": []
    },
    {
      "cell_type": "code",
      "source": [
        "Model = model()\n",
        "Model.prediction(\"/content/555.png\")"
      ],
      "metadata": {
        "colab": {
          "base_uri": "https://localhost:8080/"
        },
        "id": "-32HuIHCQNrY",
        "outputId": "a3ec95d4-3af1-48da-f97b-f23d1b8194e7"
      },
      "execution_count": null,
      "outputs": [
        {
          "output_type": "stream",
          "name": "stdout",
          "text": [
            "1/1 [==============================] - 0s 119ms/step\n",
            "Predicted class label: 5\n",
            "1/1 [==============================] - 0s 25ms/step\n",
            "Predicted class label: 5\n",
            "1/1 [==============================] - 0s 29ms/step\n",
            "Predicted class label: 5\n",
            "555\n"
          ]
        }
      ]
    },
    {
      "cell_type": "code",
      "source": [],
      "metadata": {
        "id": "LHeFSrqw7Fwd"
      },
      "execution_count": null,
      "outputs": []
    }
  ]
}